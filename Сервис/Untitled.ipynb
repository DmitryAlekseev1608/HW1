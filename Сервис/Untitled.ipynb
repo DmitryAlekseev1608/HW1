{
 "cells": [
  {
   "cell_type": "code",
   "execution_count": 133,
   "id": "cb7487d4",
   "metadata": {},
   "outputs": [
    {
     "name": "stderr",
     "output_type": "stream",
     "text": [
      "C:\\Users\\a8965\\anaconda3\\lib\\site-packages\\sklearn\\preprocessing\\_encoders.py:170: UserWarning: Found unknown categories in columns [4] during transform. These unknown categories will be encoded as all zeros\n",
      "  warnings.warn(\n",
      "C:\\Users\\a8965\\anaconda3\\lib\\site-packages\\sklearn\\utils\\validation.py:1688: FutureWarning: Feature names only support names that are all strings. Got feature names with dtypes: ['int', 'str']. An error will be raised in 1.2.\n",
      "  warnings.warn(\n"
     ]
    },
    {
     "data": {
      "text/plain": [
       "616350.0323758828"
      ]
     },
     "execution_count": 133,
     "metadata": {},
     "output_type": "execute_result"
    }
   ],
   "source": [
    "from fastapi import FastAPI\n",
    "from pydantic import BaseModel\n",
    "import pickle\n",
    "import pandas as pd\n",
    "\n",
    "#pip install uvicorn[standard]\n",
    "#uvicorn main:app --reload\n",
    "\n",
    "app = FastAPI()\n",
    "\n",
    "model, MSE, r2_score, coef, intercept, enc, scaler = pickle.load(open(\"tuple_model_best.pkl\", 'rb'))\n",
    "\n",
    "class Item(BaseModel):\n",
    "\n",
    "    year: int\n",
    "    yearsq: int\n",
    "    max_torque_rpm: int\n",
    "    km_driven: int\n",
    "    mileage: int\n",
    "    engine: int\n",
    "    max_power: int\n",
    "    torque: int\n",
    "    max_power_engine: float\n",
    "    fuel: str\n",
    "    seller_type: str\n",
    "    transmission: str\n",
    "    owner: str\n",
    "    seats: str\n",
    "\n",
    "new_car  = Item(year = 2010,\n",
    "    yearsq = 4040100,\n",
    "    max_torque_rpm = 2200,\n",
    "    km_driven = 168000,\n",
    "    mileage = 14,\n",
    "    engine = 2498,\n",
    "    max_power = 112,\n",
    "    torque = 260,\n",
    "    max_power_engine = 0.05,\n",
    "    fuel = 'Diesel',\n",
    "    seller_type ='Individual',\n",
    "    transmission = 'Manual',\n",
    "    owner = 'First Owner',\n",
    "    seats = '5.0')\n",
    "\n",
    "X_cat = pd.DataFrame({'fuel': [new_car.fuel],\n",
    "                            'seller_type': [new_car.seller_type],\n",
    "                            'transmission': [new_car.transmission],\n",
    "                            'owner': [new_car.owner],\n",
    "                            'seats': [new_car.seats]\n",
    "                             })\n",
    "\n",
    "X_num = pd.DataFrame({'year': [new_car.year], 'yearsq': [new_car.yearsq],                      \n",
    "                            'max_torque_rpm': [new_car.max_torque_rpm],\n",
    "                            'km_driven': [new_car.km_driven],\n",
    "                            'mileage': [new_car.mileage],\n",
    "                            'engine': [new_car.engine],\n",
    "                            'max_power': [new_car.max_power],\n",
    "                            'torque': [new_car.torque],\n",
    "                            'max_power_engine': [new_car.max_power_engine]\n",
    "                             })\n",
    "\n",
    "\n",
    "X_cat = pd.DataFrame(enc.transform(X_cat).toarray())\n",
    "X_dum = pd.concat([X_num, X_cat], axis=1, join='inner')\n",
    "X_dum = scaler.transform(X_dum)\n",
    "\n",
    "pred = model.predict(X_dum)\n",
    "pred[0][0]"
   ]
  },
  {
   "cell_type": "code",
   "execution_count": 118,
   "id": "909604c7",
   "metadata": {},
   "outputs": [
    {
     "data": {
      "text/plain": [
       "27"
      ]
     },
     "execution_count": 118,
     "metadata": {},
     "output_type": "execute_result"
    }
   ],
   "source": [
    "len(model.coef_[0])"
   ]
  },
  {
   "cell_type": "code",
   "execution_count": 124,
   "id": "4eacb53b",
   "metadata": {},
   "outputs": [
    {
     "data": {
      "text/plain": [
       "StandardScaler()"
      ]
     },
     "execution_count": 124,
     "metadata": {},
     "output_type": "execute_result"
    }
   ],
   "source": [
    "scaler"
   ]
  }
 ],
 "metadata": {
  "kernelspec": {
   "display_name": "Python 3 (ipykernel)",
   "language": "python",
   "name": "python3"
  },
  "language_info": {
   "codemirror_mode": {
    "name": "ipython",
    "version": 3
   },
   "file_extension": ".py",
   "mimetype": "text/x-python",
   "name": "python",
   "nbconvert_exporter": "python",
   "pygments_lexer": "ipython3",
   "version": "3.9.12"
  }
 },
 "nbformat": 4,
 "nbformat_minor": 5
}
